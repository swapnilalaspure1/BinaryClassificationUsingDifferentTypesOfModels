{
 "cells": [
  {
   "cell_type": "raw",
   "id": "09813c53",
   "metadata": {},
   "source": [
    "Evaluation\n",
    "Submissions are evaluated on area under the ROC curve between the predicted probability and the observed target.\n",
    "\n",
    "Here We Dont Use any kind of Feature Selection, OutlierDetection Techniques.."
   ]
  },
  {
   "cell_type": "code",
   "execution_count": 1,
   "id": "f2a082e7",
   "metadata": {
    "execution": {
     "iopub.execute_input": "2023-10-13T19:19:33.759312Z",
     "iopub.status.busy": "2023-10-13T19:19:33.758939Z",
     "iopub.status.idle": "2023-10-13T19:19:34.661259Z",
     "shell.execute_reply": "2023-10-13T19:19:34.660334Z",
     "shell.execute_reply.started": "2023-10-13T19:19:33.759283Z"
    }
   },
   "outputs": [
    {
     "data": {
      "text/html": [
       "<div>\n",
       "<style scoped>\n",
       "    .dataframe tbody tr th:only-of-type {\n",
       "        vertical-align: middle;\n",
       "    }\n",
       "\n",
       "    .dataframe tbody tr th {\n",
       "        vertical-align: top;\n",
       "    }\n",
       "\n",
       "    .dataframe thead th {\n",
       "        text-align: right;\n",
       "    }\n",
       "</style>\n",
       "<table border=\"1\" class=\"dataframe\">\n",
       "  <thead>\n",
       "    <tr style=\"text-align: right;\">\n",
       "      <th></th>\n",
       "      <th>id</th>\n",
       "      <th>loc</th>\n",
       "      <th>v(g)</th>\n",
       "      <th>ev(g)</th>\n",
       "      <th>iv(g)</th>\n",
       "      <th>n</th>\n",
       "      <th>v</th>\n",
       "      <th>l</th>\n",
       "      <th>d</th>\n",
       "      <th>i</th>\n",
       "      <th>...</th>\n",
       "      <th>lOCode</th>\n",
       "      <th>lOComment</th>\n",
       "      <th>lOBlank</th>\n",
       "      <th>locCodeAndComment</th>\n",
       "      <th>uniq_Op</th>\n",
       "      <th>uniq_Opnd</th>\n",
       "      <th>total_Op</th>\n",
       "      <th>total_Opnd</th>\n",
       "      <th>branchCount</th>\n",
       "      <th>defects</th>\n",
       "    </tr>\n",
       "  </thead>\n",
       "  <tbody>\n",
       "    <tr>\n",
       "      <th>0</th>\n",
       "      <td>0</td>\n",
       "      <td>22.0</td>\n",
       "      <td>3.0</td>\n",
       "      <td>1.0</td>\n",
       "      <td>2.0</td>\n",
       "      <td>60.0</td>\n",
       "      <td>278.63</td>\n",
       "      <td>0.06</td>\n",
       "      <td>19.56</td>\n",
       "      <td>14.25</td>\n",
       "      <td>...</td>\n",
       "      <td>17</td>\n",
       "      <td>1</td>\n",
       "      <td>1</td>\n",
       "      <td>0</td>\n",
       "      <td>16.0</td>\n",
       "      <td>9.0</td>\n",
       "      <td>38.0</td>\n",
       "      <td>22.0</td>\n",
       "      <td>5.0</td>\n",
       "      <td>False</td>\n",
       "    </tr>\n",
       "    <tr>\n",
       "      <th>1</th>\n",
       "      <td>1</td>\n",
       "      <td>14.0</td>\n",
       "      <td>2.0</td>\n",
       "      <td>1.0</td>\n",
       "      <td>2.0</td>\n",
       "      <td>32.0</td>\n",
       "      <td>151.27</td>\n",
       "      <td>0.14</td>\n",
       "      <td>7.00</td>\n",
       "      <td>21.11</td>\n",
       "      <td>...</td>\n",
       "      <td>11</td>\n",
       "      <td>0</td>\n",
       "      <td>1</td>\n",
       "      <td>0</td>\n",
       "      <td>11.0</td>\n",
       "      <td>11.0</td>\n",
       "      <td>18.0</td>\n",
       "      <td>14.0</td>\n",
       "      <td>3.0</td>\n",
       "      <td>False</td>\n",
       "    </tr>\n",
       "    <tr>\n",
       "      <th>2</th>\n",
       "      <td>2</td>\n",
       "      <td>11.0</td>\n",
       "      <td>2.0</td>\n",
       "      <td>1.0</td>\n",
       "      <td>2.0</td>\n",
       "      <td>45.0</td>\n",
       "      <td>197.65</td>\n",
       "      <td>0.11</td>\n",
       "      <td>8.05</td>\n",
       "      <td>22.76</td>\n",
       "      <td>...</td>\n",
       "      <td>8</td>\n",
       "      <td>0</td>\n",
       "      <td>1</td>\n",
       "      <td>0</td>\n",
       "      <td>12.0</td>\n",
       "      <td>11.0</td>\n",
       "      <td>28.0</td>\n",
       "      <td>17.0</td>\n",
       "      <td>3.0</td>\n",
       "      <td>False</td>\n",
       "    </tr>\n",
       "    <tr>\n",
       "      <th>3</th>\n",
       "      <td>3</td>\n",
       "      <td>8.0</td>\n",
       "      <td>1.0</td>\n",
       "      <td>1.0</td>\n",
       "      <td>1.0</td>\n",
       "      <td>23.0</td>\n",
       "      <td>94.01</td>\n",
       "      <td>0.19</td>\n",
       "      <td>5.25</td>\n",
       "      <td>17.86</td>\n",
       "      <td>...</td>\n",
       "      <td>4</td>\n",
       "      <td>0</td>\n",
       "      <td>2</td>\n",
       "      <td>0</td>\n",
       "      <td>8.0</td>\n",
       "      <td>6.0</td>\n",
       "      <td>16.0</td>\n",
       "      <td>7.0</td>\n",
       "      <td>1.0</td>\n",
       "      <td>True</td>\n",
       "    </tr>\n",
       "    <tr>\n",
       "      <th>4</th>\n",
       "      <td>4</td>\n",
       "      <td>11.0</td>\n",
       "      <td>2.0</td>\n",
       "      <td>1.0</td>\n",
       "      <td>2.0</td>\n",
       "      <td>17.0</td>\n",
       "      <td>60.94</td>\n",
       "      <td>0.18</td>\n",
       "      <td>5.63</td>\n",
       "      <td>12.44</td>\n",
       "      <td>...</td>\n",
       "      <td>7</td>\n",
       "      <td>0</td>\n",
       "      <td>2</td>\n",
       "      <td>0</td>\n",
       "      <td>7.0</td>\n",
       "      <td>6.0</td>\n",
       "      <td>10.0</td>\n",
       "      <td>10.0</td>\n",
       "      <td>3.0</td>\n",
       "      <td>False</td>\n",
       "    </tr>\n",
       "  </tbody>\n",
       "</table>\n",
       "<p>5 rows × 23 columns</p>\n",
       "</div>"
      ],
      "text/plain": [
       "   id   loc  v(g)  ev(g)  iv(g)     n       v     l      d      i  ...  \\\n",
       "0   0  22.0   3.0    1.0    2.0  60.0  278.63  0.06  19.56  14.25  ...   \n",
       "1   1  14.0   2.0    1.0    2.0  32.0  151.27  0.14   7.00  21.11  ...   \n",
       "2   2  11.0   2.0    1.0    2.0  45.0  197.65  0.11   8.05  22.76  ...   \n",
       "3   3   8.0   1.0    1.0    1.0  23.0   94.01  0.19   5.25  17.86  ...   \n",
       "4   4  11.0   2.0    1.0    2.0  17.0   60.94  0.18   5.63  12.44  ...   \n",
       "\n",
       "   lOCode  lOComment  lOBlank  locCodeAndComment  uniq_Op  uniq_Opnd  \\\n",
       "0      17          1        1                  0     16.0        9.0   \n",
       "1      11          0        1                  0     11.0       11.0   \n",
       "2       8          0        1                  0     12.0       11.0   \n",
       "3       4          0        2                  0      8.0        6.0   \n",
       "4       7          0        2                  0      7.0        6.0   \n",
       "\n",
       "   total_Op  total_Opnd  branchCount  defects  \n",
       "0      38.0        22.0          5.0    False  \n",
       "1      18.0        14.0          3.0    False  \n",
       "2      28.0        17.0          3.0    False  \n",
       "3      16.0         7.0          1.0     True  \n",
       "4      10.0        10.0          3.0    False  \n",
       "\n",
       "[5 rows x 23 columns]"
      ]
     },
     "execution_count": 1,
     "metadata": {},
     "output_type": "execute_result"
    }
   ],
   "source": [
    "# Importing Required Library\n",
    "import pandas as pd\n",
    "import numpy as np\n",
    "import matplotlib.pyplot as plt\n",
    "import seaborn as sns\n",
    "import scipy as spy\n",
    "import os\n",
    "import warnings\n",
    "warnings.filterwarnings('ignore')\n",
    "# Importing Train Data\n",
    "data = pd.read_csv('train.csv')\n",
    "data.head()"
   ]
  },
  {
   "cell_type": "code",
   "execution_count": 2,
   "id": "ea73664e",
   "metadata": {
    "execution": {
     "iopub.execute_input": "2023-10-13T19:19:34.663849Z",
     "iopub.status.busy": "2023-10-13T19:19:34.662988Z",
     "iopub.status.idle": "2023-10-13T19:19:34.670577Z",
     "shell.execute_reply": "2023-10-13T19:19:34.669561Z",
     "shell.execute_reply.started": "2023-10-13T19:19:34.663816Z"
    }
   },
   "outputs": [
    {
     "data": {
      "text/plain": [
       "Index(['id', 'loc', 'v(g)', 'ev(g)', 'iv(g)', 'n', 'v', 'l', 'd', 'i', 'e',\n",
       "       'b', 't', 'lOCode', 'lOComment', 'lOBlank', 'locCodeAndComment',\n",
       "       'uniq_Op', 'uniq_Opnd', 'total_Op', 'total_Opnd', 'branchCount',\n",
       "       'defects'],\n",
       "      dtype='object')"
      ]
     },
     "execution_count": 2,
     "metadata": {},
     "output_type": "execute_result"
    }
   ],
   "source": [
    "# Col Names\n",
    "data.columns"
   ]
  },
  {
   "cell_type": "code",
   "execution_count": 3,
   "id": "1a510962",
   "metadata": {
    "execution": {
     "iopub.execute_input": "2023-10-13T19:19:34.672422Z",
     "iopub.status.busy": "2023-10-13T19:19:34.671701Z",
     "iopub.status.idle": "2023-10-13T19:19:34.689535Z",
     "shell.execute_reply": "2023-10-13T19:19:34.688576Z",
     "shell.execute_reply.started": "2023-10-13T19:19:34.672391Z"
    }
   },
   "outputs": [
    {
     "data": {
      "text/plain": [
       "id                   0\n",
       "loc                  0\n",
       "v(g)                 0\n",
       "ev(g)                0\n",
       "iv(g)                0\n",
       "n                    0\n",
       "v                    0\n",
       "l                    0\n",
       "d                    0\n",
       "i                    0\n",
       "e                    0\n",
       "b                    0\n",
       "t                    0\n",
       "lOCode               0\n",
       "lOComment            0\n",
       "lOBlank              0\n",
       "locCodeAndComment    0\n",
       "uniq_Op              0\n",
       "uniq_Opnd            0\n",
       "total_Op             0\n",
       "total_Opnd           0\n",
       "branchCount          0\n",
       "defects              0\n",
       "dtype: int64"
      ]
     },
     "execution_count": 3,
     "metadata": {},
     "output_type": "execute_result"
    }
   ],
   "source": [
    "# Null Values\n",
    "data.isnull().sum()"
   ]
  },
  {
   "cell_type": "code",
   "execution_count": 4,
   "id": "c790b463",
   "metadata": {
    "execution": {
     "iopub.execute_input": "2023-10-13T19:19:34.891904Z",
     "iopub.status.busy": "2023-10-13T19:19:34.891318Z",
     "iopub.status.idle": "2023-10-13T19:19:34.897683Z",
     "shell.execute_reply": "2023-10-13T19:19:34.896709Z",
     "shell.execute_reply.started": "2023-10-13T19:19:34.891873Z"
    }
   },
   "outputs": [
    {
     "data": {
      "text/plain": [
       "(101763, 23)"
      ]
     },
     "execution_count": 4,
     "metadata": {},
     "output_type": "execute_result"
    }
   ],
   "source": [
    "# Shape of data\n",
    "data.shape"
   ]
  },
  {
   "cell_type": "code",
   "execution_count": 5,
   "id": "20657603",
   "metadata": {
    "execution": {
     "iopub.execute_input": "2023-10-13T19:19:36.128218Z",
     "iopub.status.busy": "2023-10-13T19:19:36.127258Z",
     "iopub.status.idle": "2023-10-13T19:19:36.151120Z",
     "shell.execute_reply": "2023-10-13T19:19:36.150114Z",
     "shell.execute_reply.started": "2023-10-13T19:19:36.128172Z"
    }
   },
   "outputs": [
    {
     "name": "stdout",
     "output_type": "stream",
     "text": [
      "<class 'pandas.core.frame.DataFrame'>\n",
      "RangeIndex: 101763 entries, 0 to 101762\n",
      "Data columns (total 23 columns):\n",
      " #   Column             Non-Null Count   Dtype  \n",
      "---  ------             --------------   -----  \n",
      " 0   id                 101763 non-null  int64  \n",
      " 1   loc                101763 non-null  float64\n",
      " 2   v(g)               101763 non-null  float64\n",
      " 3   ev(g)              101763 non-null  float64\n",
      " 4   iv(g)              101763 non-null  float64\n",
      " 5   n                  101763 non-null  float64\n",
      " 6   v                  101763 non-null  float64\n",
      " 7   l                  101763 non-null  float64\n",
      " 8   d                  101763 non-null  float64\n",
      " 9   i                  101763 non-null  float64\n",
      " 10  e                  101763 non-null  float64\n",
      " 11  b                  101763 non-null  float64\n",
      " 12  t                  101763 non-null  float64\n",
      " 13  lOCode             101763 non-null  int64  \n",
      " 14  lOComment          101763 non-null  int64  \n",
      " 15  lOBlank            101763 non-null  int64  \n",
      " 16  locCodeAndComment  101763 non-null  int64  \n",
      " 17  uniq_Op            101763 non-null  float64\n",
      " 18  uniq_Opnd          101763 non-null  float64\n",
      " 19  total_Op           101763 non-null  float64\n",
      " 20  total_Opnd         101763 non-null  float64\n",
      " 21  branchCount        101763 non-null  float64\n",
      " 22  defects            101763 non-null  bool   \n",
      "dtypes: bool(1), float64(17), int64(5)\n",
      "memory usage: 17.2 MB\n"
     ]
    }
   ],
   "source": [
    "# Info of Data\n",
    "data.info()"
   ]
  },
  {
   "cell_type": "code",
   "execution_count": 6,
   "id": "522106b1",
   "metadata": {
    "execution": {
     "iopub.execute_input": "2023-10-13T19:19:36.153822Z",
     "iopub.status.busy": "2023-10-13T19:19:36.153168Z",
     "iopub.status.idle": "2023-10-13T19:19:36.278688Z",
     "shell.execute_reply": "2023-10-13T19:19:36.277592Z",
     "shell.execute_reply.started": "2023-10-13T19:19:36.153790Z"
    }
   },
   "outputs": [
    {
     "data": {
      "text/html": [
       "<div>\n",
       "<style scoped>\n",
       "    .dataframe tbody tr th:only-of-type {\n",
       "        vertical-align: middle;\n",
       "    }\n",
       "\n",
       "    .dataframe tbody tr th {\n",
       "        vertical-align: top;\n",
       "    }\n",
       "\n",
       "    .dataframe thead th {\n",
       "        text-align: right;\n",
       "    }\n",
       "</style>\n",
       "<table border=\"1\" class=\"dataframe\">\n",
       "  <thead>\n",
       "    <tr style=\"text-align: right;\">\n",
       "      <th></th>\n",
       "      <th>count</th>\n",
       "      <th>mean</th>\n",
       "      <th>std</th>\n",
       "      <th>min</th>\n",
       "      <th>25%</th>\n",
       "      <th>50%</th>\n",
       "      <th>75%</th>\n",
       "      <th>max</th>\n",
       "    </tr>\n",
       "  </thead>\n",
       "  <tbody>\n",
       "    <tr>\n",
       "      <th>id</th>\n",
       "      <td>101763.0</td>\n",
       "      <td>50881.000000</td>\n",
       "      <td>29376.592059</td>\n",
       "      <td>0.0</td>\n",
       "      <td>25440.50</td>\n",
       "      <td>50881.00</td>\n",
       "      <td>76321.50</td>\n",
       "      <td>101762.00</td>\n",
       "    </tr>\n",
       "    <tr>\n",
       "      <th>loc</th>\n",
       "      <td>101763.0</td>\n",
       "      <td>37.347160</td>\n",
       "      <td>54.600401</td>\n",
       "      <td>1.0</td>\n",
       "      <td>13.00</td>\n",
       "      <td>22.00</td>\n",
       "      <td>42.00</td>\n",
       "      <td>3442.00</td>\n",
       "    </tr>\n",
       "    <tr>\n",
       "      <th>v(g)</th>\n",
       "      <td>101763.0</td>\n",
       "      <td>5.492684</td>\n",
       "      <td>7.900855</td>\n",
       "      <td>1.0</td>\n",
       "      <td>2.00</td>\n",
       "      <td>3.00</td>\n",
       "      <td>6.00</td>\n",
       "      <td>404.00</td>\n",
       "    </tr>\n",
       "    <tr>\n",
       "      <th>ev(g)</th>\n",
       "      <td>101763.0</td>\n",
       "      <td>2.845022</td>\n",
       "      <td>4.631262</td>\n",
       "      <td>1.0</td>\n",
       "      <td>1.00</td>\n",
       "      <td>1.00</td>\n",
       "      <td>3.00</td>\n",
       "      <td>165.00</td>\n",
       "    </tr>\n",
       "    <tr>\n",
       "      <th>iv(g)</th>\n",
       "      <td>101763.0</td>\n",
       "      <td>3.498826</td>\n",
       "      <td>5.534541</td>\n",
       "      <td>1.0</td>\n",
       "      <td>1.00</td>\n",
       "      <td>2.00</td>\n",
       "      <td>4.00</td>\n",
       "      <td>402.00</td>\n",
       "    </tr>\n",
       "    <tr>\n",
       "      <th>n</th>\n",
       "      <td>101763.0</td>\n",
       "      <td>96.655995</td>\n",
       "      <td>171.147191</td>\n",
       "      <td>0.0</td>\n",
       "      <td>25.00</td>\n",
       "      <td>51.00</td>\n",
       "      <td>111.00</td>\n",
       "      <td>8441.00</td>\n",
       "    </tr>\n",
       "    <tr>\n",
       "      <th>v</th>\n",
       "      <td>101763.0</td>\n",
       "      <td>538.280956</td>\n",
       "      <td>1270.791601</td>\n",
       "      <td>0.0</td>\n",
       "      <td>97.67</td>\n",
       "      <td>232.79</td>\n",
       "      <td>560.25</td>\n",
       "      <td>80843.08</td>\n",
       "    </tr>\n",
       "    <tr>\n",
       "      <th>l</th>\n",
       "      <td>101763.0</td>\n",
       "      <td>0.111634</td>\n",
       "      <td>0.100096</td>\n",
       "      <td>0.0</td>\n",
       "      <td>0.05</td>\n",
       "      <td>0.09</td>\n",
       "      <td>0.15</td>\n",
       "      <td>1.00</td>\n",
       "    </tr>\n",
       "    <tr>\n",
       "      <th>d</th>\n",
       "      <td>101763.0</td>\n",
       "      <td>13.681881</td>\n",
       "      <td>14.121306</td>\n",
       "      <td>0.0</td>\n",
       "      <td>5.60</td>\n",
       "      <td>9.82</td>\n",
       "      <td>18.00</td>\n",
       "      <td>418.20</td>\n",
       "    </tr>\n",
       "    <tr>\n",
       "      <th>i</th>\n",
       "      <td>101763.0</td>\n",
       "      <td>27.573007</td>\n",
       "      <td>22.856742</td>\n",
       "      <td>0.0</td>\n",
       "      <td>15.56</td>\n",
       "      <td>23.36</td>\n",
       "      <td>34.34</td>\n",
       "      <td>569.78</td>\n",
       "    </tr>\n",
       "    <tr>\n",
       "      <th>e</th>\n",
       "      <td>101763.0</td>\n",
       "      <td>20853.589876</td>\n",
       "      <td>190571.405427</td>\n",
       "      <td>0.0</td>\n",
       "      <td>564.73</td>\n",
       "      <td>2256.23</td>\n",
       "      <td>10193.24</td>\n",
       "      <td>16846621.12</td>\n",
       "    </tr>\n",
       "    <tr>\n",
       "      <th>b</th>\n",
       "      <td>101763.0</td>\n",
       "      <td>0.179164</td>\n",
       "      <td>0.421844</td>\n",
       "      <td>0.0</td>\n",
       "      <td>0.03</td>\n",
       "      <td>0.08</td>\n",
       "      <td>0.19</td>\n",
       "      <td>26.95</td>\n",
       "    </tr>\n",
       "    <tr>\n",
       "      <th>t</th>\n",
       "      <td>101763.0</td>\n",
       "      <td>1141.357982</td>\n",
       "      <td>9862.795472</td>\n",
       "      <td>0.0</td>\n",
       "      <td>31.38</td>\n",
       "      <td>125.40</td>\n",
       "      <td>565.92</td>\n",
       "      <td>935923.39</td>\n",
       "    </tr>\n",
       "    <tr>\n",
       "      <th>lOCode</th>\n",
       "      <td>101763.0</td>\n",
       "      <td>22.802453</td>\n",
       "      <td>38.541010</td>\n",
       "      <td>0.0</td>\n",
       "      <td>7.00</td>\n",
       "      <td>14.00</td>\n",
       "      <td>26.00</td>\n",
       "      <td>2824.00</td>\n",
       "    </tr>\n",
       "    <tr>\n",
       "      <th>lOComment</th>\n",
       "      <td>101763.0</td>\n",
       "      <td>1.773945</td>\n",
       "      <td>5.902412</td>\n",
       "      <td>0.0</td>\n",
       "      <td>0.00</td>\n",
       "      <td>0.00</td>\n",
       "      <td>1.00</td>\n",
       "      <td>344.00</td>\n",
       "    </tr>\n",
       "    <tr>\n",
       "      <th>lOBlank</th>\n",
       "      <td>101763.0</td>\n",
       "      <td>3.979865</td>\n",
       "      <td>6.382358</td>\n",
       "      <td>0.0</td>\n",
       "      <td>1.00</td>\n",
       "      <td>2.00</td>\n",
       "      <td>5.00</td>\n",
       "      <td>219.00</td>\n",
       "    </tr>\n",
       "    <tr>\n",
       "      <th>locCodeAndComment</th>\n",
       "      <td>101763.0</td>\n",
       "      <td>0.196604</td>\n",
       "      <td>0.998906</td>\n",
       "      <td>0.0</td>\n",
       "      <td>0.00</td>\n",
       "      <td>0.00</td>\n",
       "      <td>0.00</td>\n",
       "      <td>43.00</td>\n",
       "    </tr>\n",
       "    <tr>\n",
       "      <th>uniq_Op</th>\n",
       "      <td>101763.0</td>\n",
       "      <td>11.896131</td>\n",
       "      <td>6.749549</td>\n",
       "      <td>0.0</td>\n",
       "      <td>8.00</td>\n",
       "      <td>11.00</td>\n",
       "      <td>16.00</td>\n",
       "      <td>410.00</td>\n",
       "    </tr>\n",
       "    <tr>\n",
       "      <th>uniq_Opnd</th>\n",
       "      <td>101763.0</td>\n",
       "      <td>15.596671</td>\n",
       "      <td>18.064261</td>\n",
       "      <td>0.0</td>\n",
       "      <td>7.00</td>\n",
       "      <td>12.00</td>\n",
       "      <td>20.00</td>\n",
       "      <td>1026.00</td>\n",
       "    </tr>\n",
       "    <tr>\n",
       "      <th>total_Op</th>\n",
       "      <td>101763.0</td>\n",
       "      <td>57.628116</td>\n",
       "      <td>104.537660</td>\n",
       "      <td>0.0</td>\n",
       "      <td>15.00</td>\n",
       "      <td>30.00</td>\n",
       "      <td>66.00</td>\n",
       "      <td>5420.00</td>\n",
       "    </tr>\n",
       "    <tr>\n",
       "      <th>total_Opnd</th>\n",
       "      <td>101763.0</td>\n",
       "      <td>39.249698</td>\n",
       "      <td>71.692309</td>\n",
       "      <td>0.0</td>\n",
       "      <td>10.00</td>\n",
       "      <td>20.00</td>\n",
       "      <td>45.00</td>\n",
       "      <td>3021.00</td>\n",
       "    </tr>\n",
       "    <tr>\n",
       "      <th>branchCount</th>\n",
       "      <td>101763.0</td>\n",
       "      <td>9.839549</td>\n",
       "      <td>14.412769</td>\n",
       "      <td>1.0</td>\n",
       "      <td>3.00</td>\n",
       "      <td>5.00</td>\n",
       "      <td>11.00</td>\n",
       "      <td>503.00</td>\n",
       "    </tr>\n",
       "  </tbody>\n",
       "</table>\n",
       "</div>"
      ],
      "text/plain": [
       "                      count          mean            std  min       25%  \\\n",
       "id                 101763.0  50881.000000   29376.592059  0.0  25440.50   \n",
       "loc                101763.0     37.347160      54.600401  1.0     13.00   \n",
       "v(g)               101763.0      5.492684       7.900855  1.0      2.00   \n",
       "ev(g)              101763.0      2.845022       4.631262  1.0      1.00   \n",
       "iv(g)              101763.0      3.498826       5.534541  1.0      1.00   \n",
       "n                  101763.0     96.655995     171.147191  0.0     25.00   \n",
       "v                  101763.0    538.280956    1270.791601  0.0     97.67   \n",
       "l                  101763.0      0.111634       0.100096  0.0      0.05   \n",
       "d                  101763.0     13.681881      14.121306  0.0      5.60   \n",
       "i                  101763.0     27.573007      22.856742  0.0     15.56   \n",
       "e                  101763.0  20853.589876  190571.405427  0.0    564.73   \n",
       "b                  101763.0      0.179164       0.421844  0.0      0.03   \n",
       "t                  101763.0   1141.357982    9862.795472  0.0     31.38   \n",
       "lOCode             101763.0     22.802453      38.541010  0.0      7.00   \n",
       "lOComment          101763.0      1.773945       5.902412  0.0      0.00   \n",
       "lOBlank            101763.0      3.979865       6.382358  0.0      1.00   \n",
       "locCodeAndComment  101763.0      0.196604       0.998906  0.0      0.00   \n",
       "uniq_Op            101763.0     11.896131       6.749549  0.0      8.00   \n",
       "uniq_Opnd          101763.0     15.596671      18.064261  0.0      7.00   \n",
       "total_Op           101763.0     57.628116     104.537660  0.0     15.00   \n",
       "total_Opnd         101763.0     39.249698      71.692309  0.0     10.00   \n",
       "branchCount        101763.0      9.839549      14.412769  1.0      3.00   \n",
       "\n",
       "                        50%       75%          max  \n",
       "id                 50881.00  76321.50    101762.00  \n",
       "loc                   22.00     42.00      3442.00  \n",
       "v(g)                   3.00      6.00       404.00  \n",
       "ev(g)                  1.00      3.00       165.00  \n",
       "iv(g)                  2.00      4.00       402.00  \n",
       "n                     51.00    111.00      8441.00  \n",
       "v                    232.79    560.25     80843.08  \n",
       "l                      0.09      0.15         1.00  \n",
       "d                      9.82     18.00       418.20  \n",
       "i                     23.36     34.34       569.78  \n",
       "e                   2256.23  10193.24  16846621.12  \n",
       "b                      0.08      0.19        26.95  \n",
       "t                    125.40    565.92    935923.39  \n",
       "lOCode                14.00     26.00      2824.00  \n",
       "lOComment              0.00      1.00       344.00  \n",
       "lOBlank                2.00      5.00       219.00  \n",
       "locCodeAndComment      0.00      0.00        43.00  \n",
       "uniq_Op               11.00     16.00       410.00  \n",
       "uniq_Opnd             12.00     20.00      1026.00  \n",
       "total_Op              30.00     66.00      5420.00  \n",
       "total_Opnd            20.00     45.00      3021.00  \n",
       "branchCount            5.00     11.00       503.00  "
      ]
     },
     "execution_count": 6,
     "metadata": {},
     "output_type": "execute_result"
    }
   ],
   "source": [
    "# Stats of data\n",
    "data.describe().T"
   ]
  },
  {
   "cell_type": "markdown",
   "id": "8ffee418",
   "metadata": {},
   "source": [
    "#### From the statistics, we can clearly see that we need to apply feature scaling to normalise the data. \n",
    "#### Because Min Value is 0 and Max Values are far away from the range\n",
    "#### Also, we need to convert our target column into an integer format before applying any Machine Learning algorithm."
   ]
  },
  {
   "cell_type": "code",
   "execution_count": 7,
   "id": "edfb6ba4",
   "metadata": {
    "execution": {
     "iopub.execute_input": "2023-10-13T19:19:36.280484Z",
     "iopub.status.busy": "2023-10-13T19:19:36.280153Z",
     "iopub.status.idle": "2023-10-13T19:24:06.555714Z",
     "shell.execute_reply": "2023-10-13T19:24:06.554478Z",
     "shell.execute_reply.started": "2023-10-13T19:19:36.280453Z"
    }
   },
   "outputs": [
    {
     "data": {
      "text/plain": [
       "<Figure size 1200x1200 with 0 Axes>"
      ]
     },
     "metadata": {},
     "output_type": "display_data"
    },
    {
     "name": "stderr",
     "output_type": "stream",
     "text": [
      "\n",
      "KeyboardInterrupt\n",
      "\n"
     ]
    }
   ],
   "source": [
    "# PairPlot\n",
    "plt.figure(figsize=(12,12))\n",
    "sns.pairplot(data,\n",
    "            corner=True)\n",
    "plt.show()"
   ]
  },
  {
   "cell_type": "code",
   "execution_count": null,
   "id": "5632e6f2",
   "metadata": {
    "execution": {
     "iopub.execute_input": "2023-10-13T19:24:06.558230Z",
     "iopub.status.busy": "2023-10-13T19:24:06.557093Z",
     "iopub.status.idle": "2023-10-13T19:24:10.167608Z",
     "shell.execute_reply": "2023-10-13T19:24:10.166755Z",
     "shell.execute_reply.started": "2023-10-13T19:24:06.558185Z"
    }
   },
   "outputs": [],
   "source": [
    "# Histogram\n",
    "data.hist(figsize=(15,12),\n",
    "          grid=False)\n",
    "plt.show()"
   ]
  },
  {
   "cell_type": "code",
   "execution_count": null,
   "id": "3e6f22c2",
   "metadata": {
    "execution": {
     "iopub.execute_input": "2023-10-13T19:24:10.170803Z",
     "iopub.status.busy": "2023-10-13T19:24:10.170216Z",
     "iopub.status.idle": "2023-10-13T19:24:11.674188Z",
     "shell.execute_reply": "2023-10-13T19:24:11.673340Z",
     "shell.execute_reply.started": "2023-10-13T19:24:10.170769Z"
    }
   },
   "outputs": [],
   "source": [
    "# Corr\n",
    "plt.figure(figsize=(20,20))\n",
    "sns.heatmap(data.corr(),\n",
    "            annot=True,\n",
    "            cmap='RdYlGn')\n",
    "plt.title(\"Correlation Matrix of Software Defects DataSet\")\n",
    "plt.show()"
   ]
  },
  {
   "cell_type": "code",
   "execution_count": null,
   "id": "7afb3299",
   "metadata": {
    "execution": {
     "iopub.execute_input": "2023-10-13T19:24:11.676262Z",
     "iopub.status.busy": "2023-10-13T19:24:11.675588Z",
     "iopub.status.idle": "2023-10-13T19:24:11.762560Z",
     "shell.execute_reply": "2023-10-13T19:24:11.761546Z",
     "shell.execute_reply.started": "2023-10-13T19:24:11.676217Z"
    }
   },
   "outputs": [],
   "source": [
    "# We import label encoder for converting our bool col type to int \n",
    "from sklearn.preprocessing import LabelEncoder\n",
    "le = LabelEncoder()\n",
    "data['defects'] = le.fit_transform(data['defects'])\n",
    "data.head()"
   ]
  },
  {
   "cell_type": "code",
   "execution_count": null,
   "id": "a3bd19e4",
   "metadata": {
    "execution": {
     "iopub.execute_input": "2023-10-13T19:24:11.764772Z",
     "iopub.status.busy": "2023-10-13T19:24:11.763938Z",
     "iopub.status.idle": "2023-10-13T19:24:11.816660Z",
     "shell.execute_reply": "2023-10-13T19:24:11.815802Z",
     "shell.execute_reply.started": "2023-10-13T19:24:11.764739Z"
    }
   },
   "outputs": [],
   "source": [
    "# We drop the ID Column\n",
    "data_new = data\n",
    "data_new"
   ]
  },
  {
   "cell_type": "markdown",
   "id": "c4840863",
   "metadata": {},
   "source": [
    "### Here we do not use features scaling techniques because most of the tree-based, Decision tree and random forest algorithms do not work with feature scaling"
   ]
  },
  {
   "cell_type": "code",
   "execution_count": null,
   "id": "5674c6d8",
   "metadata": {
    "execution": {
     "iopub.execute_input": "2023-10-13T19:24:11.873529Z",
     "iopub.status.busy": "2023-10-13T19:24:11.872940Z",
     "iopub.status.idle": "2023-10-13T19:24:11.981520Z",
     "shell.execute_reply": "2023-10-13T19:24:11.980512Z",
     "shell.execute_reply.started": "2023-10-13T19:24:11.873493Z"
    }
   },
   "outputs": [],
   "source": [
    "# Define X and Y Variable\n",
    "Y = data_new[['defects']]\n",
    "X = data_new.drop(columns=['defects'])\n",
    "\n",
    "# Splitting the data into X and Y Train and test\n",
    "from sklearn.model_selection import train_test_split\n",
    "X_train, X_test, Y_train, Y_test = train_test_split(X,\n",
    "                                                    Y,\n",
    "                                                    test_size=0.2,\n",
    "                                                    random_state=42)\n",
    "# len of our splitted data\n",
    "len(X_train),len(X_test),len(Y_train),len(Y_test)"
   ]
  },
  {
   "cell_type": "code",
   "execution_count": null,
   "id": "3ec92665",
   "metadata": {},
   "outputs": [],
   "source": [
    "# Logistic Regression\n",
    "from sklearn.linear_model import LogisticRegression\n",
    "LR = LogisticRegression(n_jobs=-1,\n",
    "                        random_state=42,)\n",
    "\n",
    "lr_model = LR.fit(X_train,\n",
    "                  Y_train)\n",
    "\n",
    "# Prediction\n",
    "Y_test[\"Pred_Logi\"]=lr_model.predict(X_test)"
   ]
  },
  {
   "cell_type": "code",
   "execution_count": null,
   "id": "46df1ccc",
   "metadata": {
    "execution": {
     "iopub.execute_input": "2023-10-13T19:24:11.983649Z",
     "iopub.status.busy": "2023-10-13T19:24:11.983065Z",
     "iopub.status.idle": "2023-10-13T19:24:13.616526Z",
     "shell.execute_reply": "2023-10-13T19:24:13.615580Z",
     "shell.execute_reply.started": "2023-10-13T19:24:11.983616Z"
    }
   },
   "outputs": [],
   "source": [
    "# Decision Tree\n",
    "from sklearn.tree import DecisionTreeClassifier\n",
    "dtree = DecisionTreeClassifier(random_state=42)\n",
    "model = dtree.fit(X_train, Y_train)\n",
    "model\n",
    "\n",
    "# Prediction\n",
    "Y_test['Pred_Dtree'] = model.predict(X_test)"
   ]
  },
  {
   "cell_type": "code",
   "execution_count": null,
   "id": "a229e673",
   "metadata": {
    "execution": {
     "iopub.execute_input": "2023-10-13T19:24:13.618793Z",
     "iopub.status.busy": "2023-10-13T19:24:13.617872Z",
     "iopub.status.idle": "2023-10-13T19:29:38.939239Z",
     "shell.execute_reply": "2023-10-13T19:29:38.938153Z",
     "shell.execute_reply.started": "2023-10-13T19:24:13.618759Z"
    }
   },
   "outputs": [],
   "source": [
    "# Random forest\n",
    "from sklearn.ensemble import RandomForestClassifier\n",
    "rfc = RandomForestClassifier(random_state= 42,\n",
    "                             n_estimators= 2000,\n",
    "                             criterion='log_loss',\n",
    "                             n_jobs=-1)\n",
    "mdl = rfc.fit(X_train, Y_train)\n",
    "mdl\n",
    "\n",
    "# Prediction\n",
    "Y_test['Pred_RFC'] = mdl.predict(X_test)"
   ]
  },
  {
   "cell_type": "code",
   "execution_count": null,
   "id": "af6914bc",
   "metadata": {
    "execution": {
     "iopub.execute_input": "2023-10-13T19:29:38.941441Z",
     "iopub.status.busy": "2023-10-13T19:29:38.940805Z",
     "iopub.status.idle": "2023-10-13T19:35:36.742002Z",
     "shell.execute_reply": "2023-10-13T19:35:36.741013Z",
     "shell.execute_reply.started": "2023-10-13T19:29:38.941403Z"
    }
   },
   "outputs": [],
   "source": [
    "# SVM (Support Vector Machine)\n",
    "from sklearn.svm import SVC\n",
    "svm = SVC(random_state=42)\n",
    "model2 = svm.fit(X_train,Y_train)\n",
    "model2\n",
    "Y_test[\"Predicted_SVM\"] = model2.predict(X_test)"
   ]
  },
  {
   "cell_type": "code",
   "execution_count": null,
   "id": "4bb02b88",
   "metadata": {
    "execution": {
     "iopub.execute_input": "2023-10-13T19:35:36.745757Z",
     "iopub.status.busy": "2023-10-13T19:35:36.745267Z",
     "iopub.status.idle": "2023-10-13T19:36:54.026692Z",
     "shell.execute_reply": "2023-10-13T19:36:54.025709Z",
     "shell.execute_reply.started": "2023-10-13T19:35:36.745708Z"
    }
   },
   "outputs": [],
   "source": [
    "# ExtraTree Classifiers\n",
    "from sklearn.ensemble import ExtraTreesClassifier\n",
    "etc = ExtraTreesClassifier(n_estimators=1000,\n",
    "                           n_jobs=-1,\n",
    "                           random_state=42)\n",
    "\n",
    "model_etc = etc.fit(X_train,\n",
    "                    Y_train)\n",
    "model_etc\n",
    "\n",
    "# Prediction\n",
    "Y_test['Pred_ExtraTree'] = model_etc.predict(X_test)"
   ]
  },
  {
   "cell_type": "code",
   "execution_count": null,
   "id": "52c715e2",
   "metadata": {
    "execution": {
     "iopub.execute_input": "2023-10-13T19:36:54.028267Z",
     "iopub.status.busy": "2023-10-13T19:36:54.027933Z",
     "iopub.status.idle": "2023-10-13T19:38:20.433066Z",
     "shell.execute_reply": "2023-10-13T19:38:20.432116Z",
     "shell.execute_reply.started": "2023-10-13T19:36:54.028237Z"
    }
   },
   "outputs": [],
   "source": [
    "# AdaBoost Classifier\n",
    "from sklearn.ensemble import AdaBoostClassifier\n",
    "abc = AdaBoostClassifier(n_estimators=1000, \n",
    "                         random_state=42)\n",
    "\n",
    "model_abc = abc.fit(X_train,\n",
    "                    Y_train)\n",
    "model_abc\n",
    "\n",
    "# Prediction\n",
    "Y_test['Pred_AdaB'] = model_abc.predict(X_test)"
   ]
  },
  {
   "cell_type": "code",
   "execution_count": null,
   "id": "460ca167",
   "metadata": {
    "execution": {
     "iopub.execute_input": "2023-10-13T19:38:20.434812Z",
     "iopub.status.busy": "2023-10-13T19:38:20.434449Z",
     "iopub.status.idle": "2023-10-13T19:41:37.874002Z",
     "shell.execute_reply": "2023-10-13T19:41:37.873020Z",
     "shell.execute_reply.started": "2023-10-13T19:38:20.434781Z"
    }
   },
   "outputs": [],
   "source": [
    "# GradiantBoost Classifier\n",
    "from sklearn.ensemble import GradientBoostingClassifier\n",
    "\n",
    "gbc = GradientBoostingClassifier(n_estimators=1000, \n",
    "                                 random_state=42)\n",
    "\n",
    "model_gbc = gbc.fit(X_train,\n",
    "                    Y_train)\n",
    "model_gbc\n",
    "\n",
    "# Prediction\n",
    "Y_test['Pred_GBC'] = model_gbc.predict(X_test)"
   ]
  },
  {
   "cell_type": "code",
   "execution_count": null,
   "id": "fccb19ab",
   "metadata": {
    "execution": {
     "iopub.execute_input": "2023-10-13T19:41:37.876394Z",
     "iopub.status.busy": "2023-10-13T19:41:37.875460Z",
     "iopub.status.idle": "2023-10-13T19:43:01.701533Z",
     "shell.execute_reply": "2023-10-13T19:43:01.700791Z",
     "shell.execute_reply.started": "2023-10-13T19:41:37.876357Z"
    }
   },
   "outputs": [],
   "source": [
    "# XGBoost Classifier\n",
    "import xgboost as xgb\n",
    "\n",
    "xgb_classifier = xgb.XGBClassifier(n_estimators=1000, \n",
    "                                   random_state=42)\n",
    "\n",
    "model_xgb = xgb_classifier.fit(X_train, \n",
    "                               Y_train)\n",
    "\n",
    "# Prediction\n",
    "Y_test['Pred_xgb'] = model_xgb.predict(X_test)"
   ]
  },
  {
   "cell_type": "code",
   "execution_count": null,
   "id": "34411604",
   "metadata": {
    "execution": {
     "iopub.execute_input": "2023-10-13T19:43:01.706864Z",
     "iopub.status.busy": "2023-10-13T19:43:01.705232Z",
     "iopub.status.idle": "2023-10-13T19:43:01.927876Z",
     "shell.execute_reply": "2023-10-13T19:43:01.926937Z",
     "shell.execute_reply.started": "2023-10-13T19:43:01.706835Z"
    }
   },
   "outputs": [],
   "source": [
    "from sklearn.metrics import classification_report\n",
    "# Logistic Regression \n",
    "print(\"Logistic Regression\")\n",
    "print(classification_report(Y_test['defects'], Y_test[\"Pred_Logi\"]))\n",
    "print(\"--------------------------------------------------------------------\")\n",
    "print(\"--------------------------------------------------------------------\")\n",
    "\n",
    "# DeTree\n",
    "print(\"Decision Tree\")\n",
    "print(classification_report(Y_test['defects'], Y_test['Pred_Dtree']))\n",
    "print(\"--------------------------------------------------------------------\")\n",
    "print(\"--------------------------------------------------------------------\")\n",
    "\n",
    "\n",
    "# for random forest\n",
    "print(\"Random Forest\")\n",
    "print(classification_report(Y_test[\"defects\"],Y_test[\"Pred_RFC\"]))\n",
    "print(\"--------------------------------------------------------------------\")\n",
    "print(\"--------------------------------------------------------------------\")\n",
    "\n",
    "\n",
    "# SVm\n",
    "print(\"Support Vector Machine\")\n",
    "print(classification_report(Y_test[\"defects\"],Y_test[\"Predicted_SVM\"]))\n",
    "print(\"--------------------------------------------------------------------\")\n",
    "print(\"--------------------------------------------------------------------\")\n",
    "\n",
    "\n",
    "# ExtraTree\n",
    "print(\"ExtraTree Classifiers\")\n",
    "print(classification_report(Y_test[\"defects\"],Y_test[\"Pred_ExtraTree\"]))\n",
    "print(\"--------------------------------------------------------------------\")\n",
    "print(\"--------------------------------------------------------------------\")\n",
    "\n",
    "\n",
    "# AdaBoost\n",
    "print('AdaBoost')\n",
    "print(classification_report(Y_test['defects'],Y_test['Pred_AdaB']))\n",
    "print('--------------------------------------------------------------------')\n",
    "print(\"--------------------------------------------------------------------\")\n",
    "\n",
    "\n",
    "# GradiantBoost\n",
    "print(\"GradiantBoost Classifiers\")\n",
    "print(classification_report(Y_test[\"defects\"],Y_test[\"Pred_GBC\"]))\n",
    "print(\"--------------------------------------------------------------------\")\n",
    "print(\"--------------------------------------------------------------------\")\n",
    "\n",
    "\n",
    "# XGBoost\n",
    "print(\"XGBoost Classifiers\")\n",
    "print(classification_report(Y_test[\"defects\"],Y_test[\"Pred_xgb\"]))\n",
    "print(\"--------------------------------------------------------------------\")\n",
    "print(\"--------------------------------------------------------------------\")"
   ]
  },
  {
   "cell_type": "markdown",
   "id": "708cbb82",
   "metadata": {},
   "source": [
    "After Running Few Machine Learning Algorithms, We Conclued\n",
    "Based on the F1-scores and considering accuracy, the best-performing models seem to be Random Forest, ExtraTree Classifiers, AdaBoost, and Gradient Boost Classifiers, all of which have an accuracy around 0.81. Among these, Gradient Boost Classifiers have slightly better F1-scores, which indicates a better balance between precision and recall for both classes. Therefore, Gradient Boost Classifiers could be considered the best-performing model based on the provided evaluation metrics."
   ]
  },
  {
   "cell_type": "code",
   "execution_count": null,
   "id": "a91f5a56",
   "metadata": {
    "execution": {
     "iopub.execute_input": "2023-10-13T20:12:55.876865Z",
     "iopub.status.busy": "2023-10-13T20:12:55.876472Z",
     "iopub.status.idle": "2023-10-13T20:12:55.921086Z",
     "shell.execute_reply": "2023-10-13T20:12:55.920122Z",
     "shell.execute_reply.started": "2023-10-13T20:12:55.876835Z"
    }
   },
   "outputs": [],
   "source": [
    "from sklearn.metrics import roc_auc_score\n",
    "\n",
    "# Calculate AUC for Logistic Regression\n",
    "auc_logi = roc_auc_score(Y_test['defects'], Y_test['Pred_Logi'])\n",
    "print(f\"AUC for Logistic Regression: {auc_logi}\")\n",
    "\n",
    "# Calculate AUC for Decision Tree\n",
    "auc_dtree = roc_auc_score(Y_test['defects'], Y_test['Pred_Dtree'])\n",
    "print(f\"AUC for Decision Tree: {auc_dtree}\")\n",
    "\n",
    "# Calculate AUC for Random Forest\n",
    "auc_rfc = roc_auc_score(Y_test[\"defects\"], Y_test[\"Pred_RFC\"])\n",
    "print(f\"AUC for Random Forest: {auc_rfc}\")\n",
    "\n",
    "# Calculate AUC for SVM\n",
    "auc_svm = roc_auc_score(Y_test[\"defects\"], Y_test[\"Predicted_SVM\"])\n",
    "print(f\"AUC for Support Vector Machine: {auc_svm}\")\n",
    "\n",
    "# Calculate AUC for ExtraTree Classifiers\n",
    "auc_extra_tree = roc_auc_score(Y_test[\"defects\"], Y_test[\"Pred_ExtraTree\"])\n",
    "print(f\"AUC for ExtraTree Classifiers: {auc_extra_tree}\")\n",
    "\n",
    "# Calculate AUC for AdaBoost\n",
    "auc_adaboost = roc_auc_score(Y_test['defects'], Y_test['Pred_AdaB'])\n",
    "print(f\"AUC for AdaBoost: {auc_adaboost}\")\n",
    "\n",
    "# Calculate AUC for GradientBoost\n",
    "auc_gradient_boost = roc_auc_score(Y_test[\"defects\"], Y_test[\"Pred_GBC\"])\n",
    "print(f\"AUC for GradientBoost Classifiers: {auc_gradient_boost}\")\n",
    "\n",
    "# Calculate AUC for XGBoost\n",
    "auc_xgb = roc_auc_score(Y_test[\"defects\"], Y_test[\"Pred_xgb\"])\n",
    "print(f\"AUC for XGBoost Classifiers: {auc_xgb}\")\n"
   ]
  },
  {
   "cell_type": "markdown",
   "id": "40d66fe8",
   "metadata": {},
   "source": [
    "**** After Seeing the AUC Curve, We Can Clearly See that the AUC =< 0.65 Models performed well, but I am considering the AUC score and classification report. ****\n",
    "\n",
    "**** After seeing both the parameters, I am considering the Gradient Boost as the best model.****"
   ]
  }
 ],
 "metadata": {
  "kernelspec": {
   "display_name": "Python 3 (ipykernel)",
   "language": "python",
   "name": "python3"
  },
  "language_info": {
   "codemirror_mode": {
    "name": "ipython",
    "version": 3
   },
   "file_extension": ".py",
   "mimetype": "text/x-python",
   "name": "python",
   "nbconvert_exporter": "python",
   "pygments_lexer": "ipython3",
   "version": "3.11.4"
  }
 },
 "nbformat": 4,
 "nbformat_minor": 5
}
